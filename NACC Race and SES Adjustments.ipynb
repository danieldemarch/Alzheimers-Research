{
 "cells": [
  {
   "cell_type": "code",
   "execution_count": 1,
   "metadata": {},
   "outputs": [],
   "source": [
    "import pandas as pd\n",
    "import numpy as np\n",
    "import math"
   ]
  },
  {
   "cell_type": "code",
   "execution_count": 2,
   "metadata": {},
   "outputs": [
    {
     "name": "stderr",
     "output_type": "stream",
     "text": [
      "/Users/danieldemarchi/anaconda3/envs/deepchem/lib/python3.5/site-packages/IPython/core/interactiveshell.py:2785: DtypeWarning: Columns (3,31,47,53,61,77,100,105,118,123,126,129,130,164,171,221,222,224,225,226,227,228,229,230,231,232,233,235,236,237,238,239,240,241,242,243,244,246,272,288,293,300,301,305,306,318,356,360,362,364,376,401,417,441,471,472,482,494,518,519,569,570,593,594,595,610,616,633,634,635,636,637,639,669,716,717,718,733,765,767,772,785,788,790,792,794,797,799,823,828,844,846,847,855,857,859,861,863,876,884,896,898,913,915,927,929,931,933,935) have mixed types. Specify dtype option on import or set low_memory=False.\n",
      "  interactivity=interactivity, compiler=compiler, result=result)\n"
     ]
    }
   ],
   "source": [
    "alzheimers = pd.read_csv(\"/Users/danieldemarchi/Desktop/CleanedNACC\")"
   ]
  },
  {
   "cell_type": "code",
   "execution_count": 3,
   "metadata": {},
   "outputs": [
    {
     "name": "stdout",
     "output_type": "stream",
     "text": [
      "104319\n"
     ]
    }
   ],
   "source": [
    "print(len(alzheimers))"
   ]
  },
  {
   "cell_type": "code",
   "execution_count": 4,
   "metadata": {},
   "outputs": [],
   "source": [
    "white = alzheimers[alzheimers.RACE == 1]\n",
    "black = alzheimers[alzheimers.RACE == 2]\n",
    "nativeam = alzheimers[alzheimers.RACE == 3]\n",
    "nativeha = alzheimers[alzheimers.RACE == 4]\n",
    "asian = alzheimers[alzheimers.RACE == 5]\n",
    "other = alzheimers[alzheimers.RACE == 50]\n",
    "unknown = alzheimers[alzheimers.RACE == 99]"
   ]
  },
  {
   "cell_type": "code",
   "execution_count": 5,
   "metadata": {},
   "outputs": [],
   "source": [
    "white = white[white.HISPANIC == 0]\n",
    "hispanic = alzheimers[alzheimers.HISPANIC == 1]"
   ]
  },
  {
   "cell_type": "code",
   "execution_count": 6,
   "metadata": {},
   "outputs": [
    {
     "name": "stdout",
     "output_type": "stream",
     "text": [
      "0.7803755787536307\n",
      "0.12908482634994584\n",
      "0.005138086062941554\n",
      "0.0006614327207891179\n",
      "0.0228817377467192\n",
      "0.0111580824202686\n",
      "0.0023677374207958283\n",
      "0.0627498346418198\n"
     ]
    }
   ],
   "source": [
    "print(len(white)/len(alzheimers))\n",
    "print(len(black)/len(alzheimers))\n",
    "print(len(nativeam)/len(alzheimers))\n",
    "print(len(nativeha)/len(alzheimers))\n",
    "print(len(asian)/len(alzheimers))\n",
    "print(len(other)/len(alzheimers))\n",
    "print(len(unknown)/len(alzheimers))\n",
    "print(len(hispanic)/len(alzheimers))"
   ]
  },
  {
   "cell_type": "code",
   "execution_count": 7,
   "metadata": {},
   "outputs": [
    {
     "name": "stdout",
     "output_type": "stream",
     "text": [
      "16.30827437106918\n",
      "14.67525620080202\n",
      "12.873134328358208\n",
      "14.507246376811594\n",
      "16.774193548387096\n",
      "10.309278350515465\n",
      "13.619433198380566\n",
      "12.133822181484875\n"
     ]
    }
   ],
   "source": [
    "print(white['EDUC'].sum()/len(white))\n",
    "print(black['EDUC'].sum()/len(black))\n",
    "print(nativeam['EDUC'].sum()/len(nativeam))\n",
    "print(nativeha['EDUC'].sum()/len(nativeha))\n",
    "print(asian['EDUC'].sum()/len(asian))\n",
    "print(other['EDUC'].sum()/len(other))\n",
    "print(unknown['EDUC'].sum()/len(unknown))\n",
    "print(hispanic['EDUC'].sum()/len(hispanic))"
   ]
  },
  {
   "cell_type": "code",
   "execution_count": 8,
   "metadata": {},
   "outputs": [
    {
     "name": "stdout",
     "output_type": "stream",
     "text": [
      "1.5271349253144655\n",
      "1.4108866775582949\n",
      "1.626865671641791\n",
      "1.7681159420289856\n",
      "1.4574780058651027\n",
      "2.2671821305841924\n",
      "1.7530364372469636\n",
      "1.7946837763519707\n"
     ]
    }
   ],
   "source": [
    "print(white['INDEPEND'].sum()/len(white))\n",
    "print(black['INDEPEND'].sum()/len(black))\n",
    "print(nativeam['INDEPEND'].sum()/len(nativeam))\n",
    "print(nativeha['INDEPEND'].sum()/len(nativeha))\n",
    "print(asian['INDEPEND'].sum()/len(asian))\n",
    "print(other['INDEPEND'].sum()/len(other))\n",
    "print(unknown['INDEPEND'].sum()/len(unknown))\n",
    "print(hispanic['INDEPEND'].sum()/len(hispanic))"
   ]
  },
  {
   "cell_type": "code",
   "execution_count": 9,
   "metadata": {},
   "outputs": [
    {
     "name": "stdout",
     "output_type": "stream",
     "text": [
      "1.3438974056603774\n",
      "1.384301203029853\n",
      "1.1958955223880596\n",
      "1.1014492753623188\n",
      "1.3100125680770842\n",
      "1.1623711340206186\n",
      "1.1376518218623481\n",
      "1.240146654445463\n"
     ]
    }
   ],
   "source": [
    "print(white['RESIDENC'].sum()/len(white))\n",
    "print(black['RESIDENC'].sum()/len(black))\n",
    "print(nativeam['RESIDENC'].sum()/len(nativeam))\n",
    "print(nativeha['RESIDENC'].sum()/len(nativeha))\n",
    "print(asian['RESIDENC'].sum()/len(asian))\n",
    "print(other['RESIDENC'].sum()/len(other))\n",
    "print(unknown['RESIDENC'].sum()/len(unknown))\n",
    "print(hispanic['RESIDENC'].sum()/len(hispanic))"
   ]
  },
  {
   "cell_type": "code",
   "execution_count": 10,
   "metadata": {},
   "outputs": [],
   "source": [
    "male = alzheimers[alzheimers.SEX == 1]\n",
    "female = alzheimers[alzheimers.SEX == 2]"
   ]
  },
  {
   "cell_type": "code",
   "execution_count": 11,
   "metadata": {},
   "outputs": [
    {
     "name": "stdout",
     "output_type": "stream",
     "text": [
      "1.5829566221025295\n",
      "1.492005547496453\n"
     ]
    }
   ],
   "source": [
    "print(male['INDEPEND'].sum()/len(male))\n",
    "print(female['INDEPEND'].sum()/len(female))"
   ]
  },
  {
   "cell_type": "code",
   "execution_count": 12,
   "metadata": {},
   "outputs": [
    {
     "name": "stdout",
     "output_type": "stream",
     "text": [
      "16.47645955564105\n",
      "15.430106327015352\n"
     ]
    }
   ],
   "source": [
    "print(male['EDUC'].sum()/len(male))\n",
    "print(female['EDUC'].sum()/len(female))"
   ]
  },
  {
   "cell_type": "code",
   "execution_count": null,
   "metadata": {},
   "outputs": [],
   "source": []
  },
  {
   "cell_type": "code",
   "execution_count": null,
   "metadata": {},
   "outputs": [],
   "source": []
  }
 ],
 "metadata": {
  "kernelspec": {
   "display_name": "Python 3",
   "language": "python",
   "name": "python3"
  },
  "language_info": {
   "codemirror_mode": {
    "name": "ipython",
    "version": 3
   },
   "file_extension": ".py",
   "mimetype": "text/x-python",
   "name": "python",
   "nbconvert_exporter": "python",
   "pygments_lexer": "ipython3",
   "version": "3.7.3"
  }
 },
 "nbformat": 4,
 "nbformat_minor": 2
}
