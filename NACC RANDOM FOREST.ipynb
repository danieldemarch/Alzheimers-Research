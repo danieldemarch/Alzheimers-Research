{
 "cells": [
  {
   "cell_type": "code",
   "execution_count": 46,
   "metadata": {},
   "outputs": [],
   "source": [
    "import pandas as pd\n",
    "import numpy as np\n",
    "import math"
   ]
  },
  {
   "cell_type": "code",
   "execution_count": 47,
   "metadata": {},
   "outputs": [],
   "source": [
    "cogscores1 = pd.read_csv(\"/Users/danieldemarchi/Desktop/CogScore1\")\n",
    "cogscores2 = pd.read_csv(\"/Users/danieldemarchi/Desktop/CogScore2\")\n",
    "cogscores3 = pd.read_csv(\"/Users/danieldemarchi/Desktop/CogScore3\")\n",
    "cogscores4 = pd.read_csv(\"/Users/danieldemarchi/Desktop/CogScore4\")"
   ]
  },
  {
   "cell_type": "code",
   "execution_count": 48,
   "metadata": {},
   "outputs": [],
   "source": [
    "cogscores1 = np.array(cogscores1)\n",
    "cogscores2 = np.array(cogscores2)\n",
    "cogscores3 = np.array(cogscores3)\n",
    "cogscores4 = np.array(cogscores4)"
   ]
  },
  {
   "cell_type": "code",
   "execution_count": 49,
   "metadata": {},
   "outputs": [
    {
     "name": "stdout",
     "output_type": "stream",
     "text": [
      "1\n",
      "32789\n",
      "6366\n",
      "2\n",
      "35630\n",
      "7935\n",
      "3\n",
      "36107\n",
      "7514\n",
      "4\n",
      "57405\n",
      "10224\n"
     ]
    }
   ],
   "source": [
    "future_cog1 = []\n",
    "tfuture_cog1 = []\n",
    "dumb = 0\n",
    "for i in range(len(cogscores1)-1):\n",
    "    naccid = cogscores1[i][1]\n",
    "    if (cogscores1[i+1][1] == naccid and i < 9000):\n",
    "        train = (cogscores1[i,2:36])\n",
    "        label = cogscores1[i+1,18:26]\n",
    "        thing = np.concatenate((train, label))\n",
    "        tfuture_cog1.append(thing)\n",
    "    if (cogscores1[i+1][1] == naccid and i >= 9000):\n",
    "        train = (cogscores1[i,2:36])\n",
    "        label = cogscores1[i+1,18:26]\n",
    "        thing = np.concatenate((train, label))\n",
    "        future_cog1.append(thing) \n",
    "    if (i > 13800 and cogscores1[i+1][1] != naccid and dumb == 0):\n",
    "        dumb+=1\n",
    "        \n",
    "print(\"1\")\n",
    "print(len(future_cog1))\n",
    "print(len(tfuture_cog1))\n",
    "future_cog1 = np.array(future_cog1)\n",
    "tfuture_cog1 = np.array(tfuture_cog1)\n",
    "\n",
    "future_cog2 = []\n",
    "tfuture_cog2 = []\n",
    "dumb = 0\n",
    "for i in range(len(cogscores2)-1):\n",
    "    naccid = cogscores2[i][1]\n",
    "    if (cogscores2[i+1][1] == naccid and i < 11000):\n",
    "        train = (cogscores2[i,2:36])\n",
    "        label = cogscores2[i+1,18:26]\n",
    "        thing = np.concatenate((train, label))\n",
    "        tfuture_cog2.append(thing)\n",
    "    if (cogscores2[i+1][1] == naccid and i >= 11000):\n",
    "        train = (cogscores2[i,2:36])\n",
    "        label = cogscores2[i+1,18:26]\n",
    "        thing = np.concatenate((train, label))\n",
    "        future_cog2.append(thing) \n",
    "    if (i > 13800 and cogscores2[i+1][1] != naccid and dumb == 0):\n",
    "        dumb+=1\n",
    "        \n",
    "print(\"2\")\n",
    "print(len(future_cog2))\n",
    "print(len(tfuture_cog2))\n",
    "future_cog2 = np.array(future_cog2)\n",
    "tfuture_cog2 = np.array(tfuture_cog2)\n",
    "\n",
    "future_cog3 = []\n",
    "tfuture_cog3 = []\n",
    "dumb = 0\n",
    "for i in range(len(cogscores3)-1):\n",
    "    naccid = cogscores3[i][1]\n",
    "    if (cogscores3[i+1][1] == naccid and i < 10500):\n",
    "        train = (cogscores3[i,2:36])\n",
    "        label = cogscores3[i+1,18:26]\n",
    "        thing = np.concatenate((train, label))\n",
    "        tfuture_cog3.append(thing)\n",
    "    if (cogscores3[i+1][1] == naccid and i >= 10500):\n",
    "        train = (cogscores3[i,2:36])\n",
    "        label = cogscores3[i+1,18:26]\n",
    "        thing = np.concatenate((train, label))\n",
    "        future_cog3.append(thing) \n",
    "    if (i > 13800 and cogscores3[i+1][1] != naccid and dumb == 0):\n",
    "        dumb+=1\n",
    "print(\"3\")\n",
    "\n",
    "print(len(future_cog3))\n",
    "print(len(tfuture_cog3))\n",
    "future_cog3 = np.array(future_cog3)\n",
    "tfuture_cog3 = np.array(tfuture_cog3)\n",
    "\n",
    "future_cog4 = []\n",
    "tfuture_cog4 = []\n",
    "dumb = 0\n",
    "for i in range(len(cogscores4)-1):\n",
    "    naccid = cogscores4[i][1]\n",
    "    if (cogscores4[i+1][1] == naccid and i < 13804):\n",
    "        train = (cogscores4[i,2:36])\n",
    "        label = cogscores4[i+1,18:26]\n",
    "        thing = np.concatenate((train, label))\n",
    "        tfuture_cog4.append(thing)\n",
    "    if (cogscores4[i+1][1] == naccid and i >= 13804):\n",
    "        train = (cogscores4[i,2:36])\n",
    "        label = cogscores4[i+1,18:26]\n",
    "        thing = np.concatenate((train, label))\n",
    "        future_cog4.append(thing) \n",
    "    if (i > 13800 and cogscores4[i+1][1] != naccid and dumb == 0):\n",
    "        dumb+=1\n",
    "        \n",
    "print(\"4\")\n",
    "\n",
    "print(len(future_cog4))\n",
    "print(len(tfuture_cog4))\n",
    "future_cog4 = np.array(future_cog4)\n",
    "tfuture_cog4 = np.array(tfuture_cog4)"
   ]
  },
  {
   "cell_type": "code",
   "execution_count": 50,
   "metadata": {},
   "outputs": [],
   "source": [
    "from sklearn.ensemble import RandomForestRegressor"
   ]
  },
  {
   "cell_type": "code",
   "execution_count": 51,
   "metadata": {},
   "outputs": [
    {
     "name": "stdout",
     "output_type": "stream",
     "text": [
      "(32789, 8)\n",
      "(32789, 34)\n",
      "(6366, 8)\n",
      "(6366, 34)\n"
     ]
    }
   ],
   "source": [
    "train_features1 = future_cog1[:,:34]\n",
    "train_labels1 = future_cog1[:, 34:42]\n",
    "print(train_labels1.shape)\n",
    "print(train_features1.shape)\n",
    "train_labels_mem1 = train_labels1[:, 0]\n",
    "train_labels_ori1 = train_labels1[:, 1]\n",
    "train_labels_jud1 = train_labels1[:, 2]\n",
    "train_labels_com1 = train_labels1[:, 3]\n",
    "train_labels_hom1 = train_labels1[:, 4]\n",
    "train_labels_per1 = train_labels1[:, 5]\n",
    "train_labels_cpt1 = train_labels1[:, 6]\n",
    "train_labels_lan1 = train_labels1[:, 7]\n",
    "\n",
    "ttrain_features1 = tfuture_cog1[:,:34]\n",
    "ttrain_labels1 = tfuture_cog1[:, 34:42]\n",
    "print(ttrain_labels1.shape)\n",
    "print(ttrain_features1.shape)\n",
    "ttrain_labels_mem1 = ttrain_labels1[:, 0]\n",
    "ttrain_labels_ori1 = ttrain_labels1[:, 1]\n",
    "ttrain_labels_jud1 = ttrain_labels1[:, 2]\n",
    "ttrain_labels_com1 = ttrain_labels1[:, 3]\n",
    "ttrain_labels_hom1 = ttrain_labels1[:, 4]\n",
    "ttrain_labels_per1 = ttrain_labels1[:, 5]\n",
    "ttrain_labels_cpt1 = ttrain_labels1[:, 6]\n",
    "ttrain_labels_lan1 = ttrain_labels1[:, 7]\n",
    "\n",
    "rf_mem1 = RandomForestRegressor()\n",
    "rf_ori1 = RandomForestRegressor()\n",
    "rf_jud1 = RandomForestRegressor()\n",
    "rf_com1 = RandomForestRegressor()\n",
    "rf_hom1 = RandomForestRegressor()\n",
    "rf_per1 = RandomForestRegressor()\n",
    "rf_cpt1 = RandomForestRegressor()\n",
    "rf_lan1 = RandomForestRegressor()"
   ]
  },
  {
   "cell_type": "code",
   "execution_count": 52,
   "metadata": {},
   "outputs": [
    {
     "name": "stdout",
     "output_type": "stream",
     "text": [
      "(35630, 8)\n",
      "(35630, 34)\n",
      "(7935, 8)\n",
      "(7935, 34)\n"
     ]
    }
   ],
   "source": [
    "train_features2 = future_cog2[:,:34]\n",
    "train_labels2 = future_cog2[:, 34:42]\n",
    "print(train_labels2.shape)\n",
    "print(train_features2.shape)\n",
    "train_labels_mem2 = train_labels2[:, 0]\n",
    "train_labels_ori2 = train_labels2[:, 1]\n",
    "train_labels_jud2 = train_labels2[:, 2]\n",
    "train_labels_com2 = train_labels2[:, 3]\n",
    "train_labels_hom2 = train_labels2[:, 4]\n",
    "train_labels_per2 = train_labels2[:, 5]\n",
    "train_labels_cpt2 = train_labels2[:, 6]\n",
    "train_labels_lan2 = train_labels2[:, 7]\n",
    "\n",
    "ttrain_features2 = tfuture_cog2[:,:34]\n",
    "ttrain_labels2 = tfuture_cog2[:, 34:42]\n",
    "print(ttrain_labels2.shape)\n",
    "print(ttrain_features2.shape)\n",
    "ttrain_labels_mem2 = ttrain_labels2[:, 0]\n",
    "ttrain_labels_ori2 = ttrain_labels2[:, 1]\n",
    "ttrain_labels_jud2 = ttrain_labels2[:, 2]\n",
    "ttrain_labels_com2 = ttrain_labels2[:, 3]\n",
    "ttrain_labels_hom2 = ttrain_labels2[:, 4]\n",
    "ttrain_labels_per2 = ttrain_labels2[:, 5]\n",
    "ttrain_labels_cpt2 = ttrain_labels2[:, 6]\n",
    "ttrain_labels_lan2 = ttrain_labels2[:, 7]\n",
    "\n",
    "rf_mem2 = RandomForestRegressor()\n",
    "rf_ori2 = RandomForestRegressor()\n",
    "rf_jud2 = RandomForestRegressor()\n",
    "rf_com2 = RandomForestRegressor()\n",
    "rf_hom2 = RandomForestRegressor()\n",
    "rf_per2 = RandomForestRegressor()\n",
    "rf_cpt2 = RandomForestRegressor()\n",
    "rf_lan2 = RandomForestRegressor()"
   ]
  },
  {
   "cell_type": "code",
   "execution_count": 53,
   "metadata": {},
   "outputs": [
    {
     "name": "stdout",
     "output_type": "stream",
     "text": [
      "(36107, 8)\n",
      "(36107, 34)\n",
      "(7514, 8)\n",
      "(7514, 34)\n"
     ]
    }
   ],
   "source": [
    "train_features3 = future_cog3[:,:34]\n",
    "train_labels3 = future_cog3[:, 34:42]\n",
    "print(train_labels3.shape)\n",
    "print(train_features3.shape)\n",
    "train_labels_mem3 = train_labels3[:, 0]\n",
    "train_labels_ori3 = train_labels3[:, 1]\n",
    "train_labels_jud3 = train_labels3[:, 2]\n",
    "train_labels_com3 = train_labels3[:, 3]\n",
    "train_labels_hom3 = train_labels3[:, 4]\n",
    "train_labels_per3 = train_labels3[:, 5]\n",
    "train_labels_cpt3 = train_labels3[:, 6]\n",
    "train_labels_lan3 = train_labels3[:, 7]\n",
    "\n",
    "ttrain_features3 = tfuture_cog3[:,:34]\n",
    "ttrain_labels3 = tfuture_cog3[:, 34:42]\n",
    "print(ttrain_labels3.shape)\n",
    "print(ttrain_features3.shape)\n",
    "ttrain_labels_mem3 = ttrain_labels3[:, 0]\n",
    "ttrain_labels_ori3 = ttrain_labels3[:, 1]\n",
    "ttrain_labels_jud3 = ttrain_labels3[:, 2]\n",
    "ttrain_labels_com3 = ttrain_labels3[:, 3]\n",
    "ttrain_labels_hom3 = ttrain_labels3[:, 4]\n",
    "ttrain_labels_per3 = ttrain_labels3[:, 5]\n",
    "ttrain_labels_cpt3 = ttrain_labels3[:, 6]\n",
    "ttrain_labels_lan3 = ttrain_labels3[:, 7]\n",
    "\n",
    "rf_mem3 = RandomForestRegressor()\n",
    "rf_ori3 = RandomForestRegressor()\n",
    "rf_jud3 = RandomForestRegressor()\n",
    "rf_com3 = RandomForestRegressor()\n",
    "rf_hom3 = RandomForestRegressor()\n",
    "rf_per3 = RandomForestRegressor()\n",
    "rf_cpt3 = RandomForestRegressor()\n",
    "rf_lan3 = RandomForestRegressor()"
   ]
  },
  {
   "cell_type": "code",
   "execution_count": 54,
   "metadata": {},
   "outputs": [
    {
     "name": "stdout",
     "output_type": "stream",
     "text": [
      "(57405, 8)\n",
      "(57405, 34)\n",
      "(10224, 8)\n",
      "(10224, 34)\n"
     ]
    }
   ],
   "source": [
    "train_features4 = future_cog4[:,:34]\n",
    "train_labels4 = future_cog4[:, 34:42]\n",
    "print(train_labels4.shape)\n",
    "print(train_features4.shape)\n",
    "train_labels_mem4 = train_labels4[:, 0]\n",
    "train_labels_ori4 = train_labels4[:, 1]\n",
    "train_labels_jud4 = train_labels4[:, 2]\n",
    "train_labels_com4 = train_labels4[:, 3]\n",
    "train_labels_hom4 = train_labels4[:, 4]\n",
    "train_labels_per4 = train_labels4[:, 5]\n",
    "train_labels_cpt4 = train_labels4[:, 6]\n",
    "train_labels_lan4 = train_labels4[:, 7]\n",
    "\n",
    "ttrain_features4 = tfuture_cog4[:,:34]\n",
    "ttrain_labels4 = tfuture_cog4[:, 34:42]\n",
    "print(ttrain_labels4.shape)\n",
    "print(ttrain_features4.shape)\n",
    "ttrain_labels_mem4 = ttrain_labels4[:, 0]\n",
    "ttrain_labels_ori4 = ttrain_labels4[:, 1]\n",
    "ttrain_labels_jud4 = ttrain_labels4[:, 2]\n",
    "ttrain_labels_com4 = ttrain_labels4[:, 3]\n",
    "ttrain_labels_hom4 = ttrain_labels4[:, 4]\n",
    "ttrain_labels_per4 = ttrain_labels4[:, 5]\n",
    "ttrain_labels_cpt4 = ttrain_labels4[:, 6]\n",
    "ttrain_labels_lan4 = ttrain_labels4[:, 7]\n",
    "\n",
    "rf_mem4 = RandomForestRegressor()\n",
    "rf_ori4 = RandomForestRegressor()\n",
    "rf_jud4 = RandomForestRegressor()\n",
    "rf_com4 = RandomForestRegressor()\n",
    "rf_hom4 = RandomForestRegressor()\n",
    "rf_per4 = RandomForestRegressor()\n",
    "rf_cpt4 = RandomForestRegressor()\n",
    "rf_lan4 = RandomForestRegressor()"
   ]
  },
  {
   "cell_type": "code",
   "execution_count": 55,
   "metadata": {},
   "outputs": [
    {
     "name": "stderr",
     "output_type": "stream",
     "text": [
      "/Users/danieldemarchi/anaconda3/lib/python3.7/site-packages/sklearn/ensemble/forest.py:246: FutureWarning: The default value of n_estimators will change from 10 in version 0.20 to 100 in 0.22.\n",
      "  \"10 in version 0.20 to 100 in 0.22.\", FutureWarning)\n"
     ]
    },
    {
     "name": "stdout",
     "output_type": "stream",
     "text": [
      "(6366,)\n",
      "Mean Absolute Error: 0.19790894334485287 degrees.\n"
     ]
    },
    {
     "name": "stderr",
     "output_type": "stream",
     "text": [
      "/Users/danieldemarchi/anaconda3/lib/python3.7/site-packages/sklearn/ensemble/forest.py:246: FutureWarning: The default value of n_estimators will change from 10 in version 0.20 to 100 in 0.22.\n",
      "  \"10 in version 0.20 to 100 in 0.22.\", FutureWarning)\n"
     ]
    },
    {
     "name": "stdout",
     "output_type": "stream",
     "text": [
      "(6366,)\n",
      "Mean Absolute Error: 0.17575544559639752 degrees.\n"
     ]
    },
    {
     "name": "stderr",
     "output_type": "stream",
     "text": [
      "/Users/danieldemarchi/anaconda3/lib/python3.7/site-packages/sklearn/ensemble/forest.py:246: FutureWarning: The default value of n_estimators will change from 10 in version 0.20 to 100 in 0.22.\n",
      "  \"10 in version 0.20 to 100 in 0.22.\", FutureWarning)\n"
     ]
    },
    {
     "name": "stdout",
     "output_type": "stream",
     "text": [
      "(6366,)\n",
      "Mean Absolute Error: 0.1945828284188322 degrees.\n"
     ]
    },
    {
     "name": "stderr",
     "output_type": "stream",
     "text": [
      "/Users/danieldemarchi/anaconda3/lib/python3.7/site-packages/sklearn/ensemble/forest.py:246: FutureWarning: The default value of n_estimators will change from 10 in version 0.20 to 100 in 0.22.\n",
      "  \"10 in version 0.20 to 100 in 0.22.\", FutureWarning)\n"
     ]
    },
    {
     "name": "stdout",
     "output_type": "stream",
     "text": [
      "(6366,)\n",
      "Mean Absolute Error: 0.1655533301916431 degrees.\n"
     ]
    },
    {
     "name": "stderr",
     "output_type": "stream",
     "text": [
      "/Users/danieldemarchi/anaconda3/lib/python3.7/site-packages/sklearn/ensemble/forest.py:246: FutureWarning: The default value of n_estimators will change from 10 in version 0.20 to 100 in 0.22.\n",
      "  \"10 in version 0.20 to 100 in 0.22.\", FutureWarning)\n"
     ]
    },
    {
     "name": "stdout",
     "output_type": "stream",
     "text": [
      "(6366,)\n",
      "Mean Absolute Error: 0.1868554298879464 degrees.\n"
     ]
    },
    {
     "name": "stderr",
     "output_type": "stream",
     "text": [
      "/Users/danieldemarchi/anaconda3/lib/python3.7/site-packages/sklearn/ensemble/forest.py:246: FutureWarning: The default value of n_estimators will change from 10 in version 0.20 to 100 in 0.22.\n",
      "  \"10 in version 0.20 to 100 in 0.22.\", FutureWarning)\n"
     ]
    },
    {
     "name": "stdout",
     "output_type": "stream",
     "text": [
      "(6366,)\n",
      "Mean Absolute Error: 0.1777254162739554 degrees.\n"
     ]
    },
    {
     "name": "stderr",
     "output_type": "stream",
     "text": [
      "/Users/danieldemarchi/anaconda3/lib/python3.7/site-packages/sklearn/ensemble/forest.py:246: FutureWarning: The default value of n_estimators will change from 10 in version 0.20 to 100 in 0.22.\n",
      "  \"10 in version 0.20 to 100 in 0.22.\", FutureWarning)\n"
     ]
    },
    {
     "name": "stdout",
     "output_type": "stream",
     "text": [
      "(6366,)\n",
      "Mean Absolute Error: 0.1687963399308828 degrees.\n"
     ]
    },
    {
     "name": "stderr",
     "output_type": "stream",
     "text": [
      "/Users/danieldemarchi/anaconda3/lib/python3.7/site-packages/sklearn/ensemble/forest.py:246: FutureWarning: The default value of n_estimators will change from 10 in version 0.20 to 100 in 0.22.\n",
      "  \"10 in version 0.20 to 100 in 0.22.\", FutureWarning)\n"
     ]
    },
    {
     "name": "stdout",
     "output_type": "stream",
     "text": [
      "(6366,)\n",
      "Mean Absolute Error: 0.159304714031387 degrees.\n",
      "average mean error\n",
      "0.17831030595948716\n"
     ]
    }
   ],
   "source": [
    "avg = 0\n",
    "\n",
    "rf_mem1.fit(train_features1, train_labels_mem1)\n",
    "predictions = rf_mem1.predict(ttrain_features1)\n",
    "print(predictions.shape)\n",
    "errors = abs(predictions - ttrain_labels_mem1)\n",
    "print('Mean Absolute Error:', np.mean(errors), 'degrees.')\n",
    "avg = avg+np.mean(errors)\n",
    "\n",
    "rf_ori1.fit(train_features1, train_labels_ori1)\n",
    "predictions = rf_ori1.predict(ttrain_features1)\n",
    "print(predictions.shape)\n",
    "errors = abs(predictions - ttrain_labels_ori1)\n",
    "print('Mean Absolute Error:', np.mean(errors), 'degrees.')\n",
    "avg = avg+np.mean(errors)\n",
    "\n",
    "rf_jud1.fit(train_features1, train_labels_jud1)\n",
    "predictions = rf_jud1.predict(ttrain_features1)\n",
    "print(predictions.shape)\n",
    "errors = abs(predictions - ttrain_labels_jud1)\n",
    "print('Mean Absolute Error:', np.mean(errors), 'degrees.')\n",
    "avg = avg+np.mean(errors)\n",
    "\n",
    "rf_com1.fit(train_features1, train_labels_com1)\n",
    "predictions = rf_com1.predict(ttrain_features1)\n",
    "print(predictions.shape)\n",
    "errors = abs(predictions - ttrain_labels_com1)\n",
    "print('Mean Absolute Error:', np.mean(errors), 'degrees.')\n",
    "avg = avg+np.mean(errors)\n",
    "\n",
    "rf_hom1.fit(train_features1, train_labels_hom1)\n",
    "predictions = rf_hom1.predict(ttrain_features1)\n",
    "print(predictions.shape)\n",
    "errors = abs(predictions - ttrain_labels_hom1)\n",
    "print('Mean Absolute Error:', np.mean(errors), 'degrees.')\n",
    "avg = avg+np.mean(errors)\n",
    "\n",
    "rf_per1.fit(train_features1, train_labels_per1)\n",
    "predictions = rf_per1.predict(ttrain_features1)\n",
    "print(predictions.shape)\n",
    "errors = abs(predictions - ttrain_labels_per1)\n",
    "print('Mean Absolute Error:', np.mean(errors), 'degrees.')\n",
    "avg = avg+np.mean(errors)\n",
    "\n",
    "rf_cpt1.fit(train_features1, train_labels_cpt1)\n",
    "predictions = rf_cpt1.predict(ttrain_features1)\n",
    "print(predictions.shape)\n",
    "errors = abs(predictions - ttrain_labels_cpt1)\n",
    "print('Mean Absolute Error:', np.mean(errors), 'degrees.')\n",
    "avg = avg+np.mean(errors)\n",
    "\n",
    "rf_lan1.fit(train_features1, train_labels_lan1)\n",
    "predictions = rf_lan1.predict(ttrain_features1)\n",
    "print(predictions.shape)\n",
    "errors = abs(predictions - ttrain_labels_lan1)\n",
    "print('Mean Absolute Error:', np.mean(errors), 'degrees.')\n",
    "avg = avg+np.mean(errors)\n",
    "\n",
    "print(\"average mean error\")\n",
    "print(avg/8)"
   ]
  },
  {
   "cell_type": "code",
   "execution_count": 56,
   "metadata": {},
   "outputs": [
    {
     "name": "stderr",
     "output_type": "stream",
     "text": [
      "/Users/danieldemarchi/anaconda3/lib/python3.7/site-packages/sklearn/ensemble/forest.py:246: FutureWarning: The default value of n_estimators will change from 10 in version 0.20 to 100 in 0.22.\n",
      "  \"10 in version 0.20 to 100 in 0.22.\", FutureWarning)\n"
     ]
    },
    {
     "name": "stdout",
     "output_type": "stream",
     "text": [
      "(7935,)\n",
      "Mean Absolute Error: 0.20851407267380803 degrees.\n"
     ]
    },
    {
     "name": "stderr",
     "output_type": "stream",
     "text": [
      "/Users/danieldemarchi/anaconda3/lib/python3.7/site-packages/sklearn/ensemble/forest.py:246: FutureWarning: The default value of n_estimators will change from 10 in version 0.20 to 100 in 0.22.\n",
      "  \"10 in version 0.20 to 100 in 0.22.\", FutureWarning)\n"
     ]
    },
    {
     "name": "stdout",
     "output_type": "stream",
     "text": [
      "(7935,)\n",
      "Mean Absolute Error: 0.1856421970174333 degrees.\n"
     ]
    },
    {
     "name": "stderr",
     "output_type": "stream",
     "text": [
      "/Users/danieldemarchi/anaconda3/lib/python3.7/site-packages/sklearn/ensemble/forest.py:246: FutureWarning: The default value of n_estimators will change from 10 in version 0.20 to 100 in 0.22.\n",
      "  \"10 in version 0.20 to 100 in 0.22.\", FutureWarning)\n"
     ]
    },
    {
     "name": "stdout",
     "output_type": "stream",
     "text": [
      "(7935,)\n",
      "Mean Absolute Error: 0.20333921445074565 degrees.\n"
     ]
    },
    {
     "name": "stderr",
     "output_type": "stream",
     "text": [
      "/Users/danieldemarchi/anaconda3/lib/python3.7/site-packages/sklearn/ensemble/forest.py:246: FutureWarning: The default value of n_estimators will change from 10 in version 0.20 to 100 in 0.22.\n",
      "  \"10 in version 0.20 to 100 in 0.22.\", FutureWarning)\n"
     ]
    },
    {
     "name": "stdout",
     "output_type": "stream",
     "text": [
      "(7935,)\n",
      "Mean Absolute Error: 0.17542663606085157 degrees.\n"
     ]
    },
    {
     "name": "stderr",
     "output_type": "stream",
     "text": [
      "/Users/danieldemarchi/anaconda3/lib/python3.7/site-packages/sklearn/ensemble/forest.py:246: FutureWarning: The default value of n_estimators will change from 10 in version 0.20 to 100 in 0.22.\n",
      "  \"10 in version 0.20 to 100 in 0.22.\", FutureWarning)\n"
     ]
    },
    {
     "name": "stdout",
     "output_type": "stream",
     "text": [
      "(7935,)\n",
      "Mean Absolute Error: 0.19782482671707624 degrees.\n"
     ]
    },
    {
     "name": "stderr",
     "output_type": "stream",
     "text": [
      "/Users/danieldemarchi/anaconda3/lib/python3.7/site-packages/sklearn/ensemble/forest.py:246: FutureWarning: The default value of n_estimators will change from 10 in version 0.20 to 100 in 0.22.\n",
      "  \"10 in version 0.20 to 100 in 0.22.\", FutureWarning)\n"
     ]
    },
    {
     "name": "stdout",
     "output_type": "stream",
     "text": [
      "(7935,)\n",
      "Mean Absolute Error: 0.19313799621928168 degrees.\n"
     ]
    },
    {
     "name": "stderr",
     "output_type": "stream",
     "text": [
      "/Users/danieldemarchi/anaconda3/lib/python3.7/site-packages/sklearn/ensemble/forest.py:246: FutureWarning: The default value of n_estimators will change from 10 in version 0.20 to 100 in 0.22.\n",
      "  \"10 in version 0.20 to 100 in 0.22.\", FutureWarning)\n"
     ]
    },
    {
     "name": "stdout",
     "output_type": "stream",
     "text": [
      "(7935,)\n",
      "Mean Absolute Error: 0.19998634740600715 degrees.\n"
     ]
    },
    {
     "name": "stderr",
     "output_type": "stream",
     "text": [
      "/Users/danieldemarchi/anaconda3/lib/python3.7/site-packages/sklearn/ensemble/forest.py:246: FutureWarning: The default value of n_estimators will change from 10 in version 0.20 to 100 in 0.22.\n",
      "  \"10 in version 0.20 to 100 in 0.22.\", FutureWarning)\n"
     ]
    },
    {
     "name": "stdout",
     "output_type": "stream",
     "text": [
      "(7935,)\n",
      "Mean Absolute Error: 0.18508916194076874 degrees.\n",
      "average mean error\n",
      "0.19362005656074655\n"
     ]
    }
   ],
   "source": [
    "avg = 0\n",
    "\n",
    "rf_mem2.fit(train_features2, train_labels_mem2)\n",
    "predictions = rf_mem2.predict(ttrain_features2)\n",
    "print(predictions.shape)\n",
    "errors = abs(predictions - ttrain_labels_mem2)\n",
    "print('Mean Absolute Error:', np.mean(errors), 'degrees.')\n",
    "avg = avg+np.mean(errors)\n",
    "\n",
    "rf_ori2.fit(train_features2, train_labels_ori2)\n",
    "predictions = rf_ori2.predict(ttrain_features2)\n",
    "print(predictions.shape)\n",
    "errors = abs(predictions - ttrain_labels_ori2)\n",
    "print('Mean Absolute Error:', np.mean(errors), 'degrees.')\n",
    "avg = avg+np.mean(errors)\n",
    "\n",
    "rf_jud2.fit(train_features2, train_labels_jud2)\n",
    "predictions = rf_jud2.predict(ttrain_features2)\n",
    "print(predictions.shape)\n",
    "errors = abs(predictions - ttrain_labels_jud2)\n",
    "print('Mean Absolute Error:', np.mean(errors), 'degrees.')\n",
    "avg = avg+np.mean(errors)\n",
    "\n",
    "rf_com2.fit(train_features2, train_labels_com2)\n",
    "predictions = rf_com2.predict(ttrain_features2)\n",
    "print(predictions.shape)\n",
    "errors = abs(predictions - ttrain_labels_com2)\n",
    "print('Mean Absolute Error:', np.mean(errors), 'degrees.')\n",
    "avg = avg+np.mean(errors)\n",
    "\n",
    "rf_hom2.fit(train_features2, train_labels_hom2)\n",
    "predictions = rf_hom2.predict(ttrain_features2)\n",
    "print(predictions.shape)\n",
    "errors = abs(predictions - ttrain_labels_hom2)\n",
    "print('Mean Absolute Error:', np.mean(errors), 'degrees.')\n",
    "avg = avg+np.mean(errors)\n",
    "\n",
    "rf_per2.fit(train_features2, train_labels_per2)\n",
    "predictions = rf_per2.predict(ttrain_features2)\n",
    "print(predictions.shape)\n",
    "errors = abs(predictions - ttrain_labels_per2)\n",
    "print('Mean Absolute Error:', np.mean(errors), 'degrees.')\n",
    "avg = avg+np.mean(errors)\n",
    "\n",
    "rf_cpt2.fit(train_features2, train_labels_cpt2)\n",
    "predictions = rf_cpt2.predict(ttrain_features2)\n",
    "print(predictions.shape)\n",
    "errors = abs(predictions - ttrain_labels_cpt2)\n",
    "print('Mean Absolute Error:', np.mean(errors), 'degrees.')\n",
    "avg = avg+np.mean(errors)\n",
    "\n",
    "rf_lan2.fit(train_features2, train_labels_lan2)\n",
    "predictions = rf_lan2.predict(ttrain_features2)\n",
    "print(predictions.shape)\n",
    "errors = abs(predictions - ttrain_labels_lan2)\n",
    "print('Mean Absolute Error:', np.mean(errors), 'degrees.')\n",
    "avg = avg+np.mean(errors)\n",
    "\n",
    "\n",
    "print(\"average mean error\")\n",
    "print(avg/8)"
   ]
  },
  {
   "cell_type": "code",
   "execution_count": 57,
   "metadata": {},
   "outputs": [
    {
     "name": "stderr",
     "output_type": "stream",
     "text": [
      "/Users/danieldemarchi/anaconda3/lib/python3.7/site-packages/sklearn/ensemble/forest.py:246: FutureWarning: The default value of n_estimators will change from 10 in version 0.20 to 100 in 0.22.\n",
      "  \"10 in version 0.20 to 100 in 0.22.\", FutureWarning)\n"
     ]
    },
    {
     "name": "stdout",
     "output_type": "stream",
     "text": [
      "(7514,)\n",
      "Mean Absolute Error: 0.20058993846407341 degrees.\n"
     ]
    },
    {
     "name": "stderr",
     "output_type": "stream",
     "text": [
      "/Users/danieldemarchi/anaconda3/lib/python3.7/site-packages/sklearn/ensemble/forest.py:246: FutureWarning: The default value of n_estimators will change from 10 in version 0.20 to 100 in 0.22.\n",
      "  \"10 in version 0.20 to 100 in 0.22.\", FutureWarning)\n"
     ]
    },
    {
     "name": "stdout",
     "output_type": "stream",
     "text": [
      "(7514,)\n",
      "Mean Absolute Error: 0.17449095022624433 degrees.\n"
     ]
    },
    {
     "name": "stderr",
     "output_type": "stream",
     "text": [
      "/Users/danieldemarchi/anaconda3/lib/python3.7/site-packages/sklearn/ensemble/forest.py:246: FutureWarning: The default value of n_estimators will change from 10 in version 0.20 to 100 in 0.22.\n",
      "  \"10 in version 0.20 to 100 in 0.22.\", FutureWarning)\n"
     ]
    },
    {
     "name": "stdout",
     "output_type": "stream",
     "text": [
      "(7514,)\n",
      "Mean Absolute Error: 0.19202144885103362 degrees.\n"
     ]
    },
    {
     "name": "stderr",
     "output_type": "stream",
     "text": [
      "/Users/danieldemarchi/anaconda3/lib/python3.7/site-packages/sklearn/ensemble/forest.py:246: FutureWarning: The default value of n_estimators will change from 10 in version 0.20 to 100 in 0.22.\n",
      "  \"10 in version 0.20 to 100 in 0.22.\", FutureWarning)\n"
     ]
    },
    {
     "name": "stdout",
     "output_type": "stream",
     "text": [
      "(7514,)\n",
      "Mean Absolute Error: 0.16518909147369357 degrees.\n"
     ]
    },
    {
     "name": "stderr",
     "output_type": "stream",
     "text": [
      "/Users/danieldemarchi/anaconda3/lib/python3.7/site-packages/sklearn/ensemble/forest.py:246: FutureWarning: The default value of n_estimators will change from 10 in version 0.20 to 100 in 0.22.\n",
      "  \"10 in version 0.20 to 100 in 0.22.\", FutureWarning)\n"
     ]
    },
    {
     "name": "stdout",
     "output_type": "stream",
     "text": [
      "(7514,)\n",
      "Mean Absolute Error: 0.18928580934636297 degrees.\n"
     ]
    },
    {
     "name": "stderr",
     "output_type": "stream",
     "text": [
      "/Users/danieldemarchi/anaconda3/lib/python3.7/site-packages/sklearn/ensemble/forest.py:246: FutureWarning: The default value of n_estimators will change from 10 in version 0.20 to 100 in 0.22.\n",
      "  \"10 in version 0.20 to 100 in 0.22.\", FutureWarning)\n"
     ]
    },
    {
     "name": "stdout",
     "output_type": "stream",
     "text": [
      "(7514,)\n",
      "Mean Absolute Error: 0.17703714970150958 degrees.\n"
     ]
    },
    {
     "name": "stderr",
     "output_type": "stream",
     "text": [
      "/Users/danieldemarchi/anaconda3/lib/python3.7/site-packages/sklearn/ensemble/forest.py:246: FutureWarning: The default value of n_estimators will change from 10 in version 0.20 to 100 in 0.22.\n",
      "  \"10 in version 0.20 to 100 in 0.22.\", FutureWarning)\n"
     ]
    },
    {
     "name": "stdout",
     "output_type": "stream",
     "text": [
      "(7514,)\n",
      "Mean Absolute Error: 0.17161143642977553 degrees.\n"
     ]
    },
    {
     "name": "stderr",
     "output_type": "stream",
     "text": [
      "/Users/danieldemarchi/anaconda3/lib/python3.7/site-packages/sklearn/ensemble/forest.py:246: FutureWarning: The default value of n_estimators will change from 10 in version 0.20 to 100 in 0.22.\n",
      "  \"10 in version 0.20 to 100 in 0.22.\", FutureWarning)\n"
     ]
    },
    {
     "name": "stdout",
     "output_type": "stream",
     "text": [
      "(7514,)\n",
      "Mean Absolute Error: 0.1577527873894656 degrees.\n",
      "avg mean err\n",
      "0.1784973264852698\n"
     ]
    }
   ],
   "source": [
    "avg = 0\n",
    "\n",
    "rf_mem3.fit(train_features3, train_labels_mem3)\n",
    "predictions = rf_mem3.predict(ttrain_features3)\n",
    "print(predictions.shape)\n",
    "errors = abs(predictions - ttrain_labels_mem3)\n",
    "print('Mean Absolute Error:', np.mean(errors), 'degrees.')\n",
    "avg = avg+np.mean(errors)\n",
    "\n",
    "rf_ori3.fit(train_features3, train_labels_ori3)\n",
    "predictions = rf_ori3.predict(ttrain_features3)\n",
    "print(predictions.shape)\n",
    "errors = abs(predictions - ttrain_labels_ori3)\n",
    "print('Mean Absolute Error:', np.mean(errors), 'degrees.')\n",
    "avg = avg+np.mean(errors)\n",
    "\n",
    "rf_jud3.fit(train_features3, train_labels_jud3)\n",
    "predictions = rf_jud3.predict(ttrain_features3)\n",
    "print(predictions.shape)\n",
    "errors = abs(predictions - ttrain_labels_jud3)\n",
    "print('Mean Absolute Error:', np.mean(errors), 'degrees.')\n",
    "avg = avg+np.mean(errors)\n",
    "\n",
    "rf_com3.fit(train_features3, train_labels_com3)\n",
    "predictions = rf_com3.predict(ttrain_features3)\n",
    "print(predictions.shape)\n",
    "errors = abs(predictions - ttrain_labels_com3)\n",
    "print('Mean Absolute Error:', np.mean(errors), 'degrees.')\n",
    "avg = avg+np.mean(errors)\n",
    "\n",
    "rf_hom3.fit(train_features3, train_labels_hom3)\n",
    "predictions = rf_hom3.predict(ttrain_features3)\n",
    "print(predictions.shape)\n",
    "errors = abs(predictions - ttrain_labels_hom3)\n",
    "print('Mean Absolute Error:', np.mean(errors), 'degrees.')\n",
    "avg = avg+np.mean(errors)\n",
    "\n",
    "rf_per3.fit(train_features3, train_labels_per3)\n",
    "predictions = rf_per3.predict(ttrain_features3)\n",
    "print(predictions.shape)\n",
    "errors = abs(predictions - ttrain_labels_per3)\n",
    "print('Mean Absolute Error:', np.mean(errors), 'degrees.')\n",
    "avg = avg+np.mean(errors)\n",
    "\n",
    "rf_cpt3.fit(train_features3, train_labels_cpt3)\n",
    "predictions = rf_cpt3.predict(ttrain_features3)\n",
    "print(predictions.shape)\n",
    "errors = abs(predictions - ttrain_labels_cpt3)\n",
    "print('Mean Absolute Error:', np.mean(errors), 'degrees.')\n",
    "avg = avg+np.mean(errors)\n",
    "\n",
    "rf_lan3.fit(train_features3, train_labels_lan3)\n",
    "predictions = rf_lan3.predict(ttrain_features3)\n",
    "print(predictions.shape)\n",
    "errors = abs(predictions - ttrain_labels_lan3)\n",
    "print('Mean Absolute Error:', np.mean(errors), 'degrees.')\n",
    "avg = avg+np.mean(errors)\n",
    "\n",
    "print(\"avg mean err\")\n",
    "print(avg/8)"
   ]
  },
  {
   "cell_type": "code",
   "execution_count": 58,
   "metadata": {},
   "outputs": [
    {
     "name": "stderr",
     "output_type": "stream",
     "text": [
      "/Users/danieldemarchi/anaconda3/lib/python3.7/site-packages/sklearn/ensemble/forest.py:246: FutureWarning: The default value of n_estimators will change from 10 in version 0.20 to 100 in 0.22.\n",
      "  \"10 in version 0.20 to 100 in 0.22.\", FutureWarning)\n"
     ]
    },
    {
     "name": "stdout",
     "output_type": "stream",
     "text": [
      "(10224,)\n",
      "Mean Absolute Error: 0.1959849497518218 degrees.\n"
     ]
    },
    {
     "name": "stderr",
     "output_type": "stream",
     "text": [
      "/Users/danieldemarchi/anaconda3/lib/python3.7/site-packages/sklearn/ensemble/forest.py:246: FutureWarning: The default value of n_estimators will change from 10 in version 0.20 to 100 in 0.22.\n",
      "  \"10 in version 0.20 to 100 in 0.22.\", FutureWarning)\n"
     ]
    },
    {
     "name": "stdout",
     "output_type": "stream",
     "text": [
      "(10224,)\n",
      "Mean Absolute Error: 0.17749207188981253 degrees.\n"
     ]
    },
    {
     "name": "stderr",
     "output_type": "stream",
     "text": [
      "/Users/danieldemarchi/anaconda3/lib/python3.7/site-packages/sklearn/ensemble/forest.py:246: FutureWarning: The default value of n_estimators will change from 10 in version 0.20 to 100 in 0.22.\n",
      "  \"10 in version 0.20 to 100 in 0.22.\", FutureWarning)\n"
     ]
    },
    {
     "name": "stdout",
     "output_type": "stream",
     "text": [
      "(10224,)\n",
      "Mean Absolute Error: 0.19196292725488734 degrees.\n"
     ]
    },
    {
     "name": "stderr",
     "output_type": "stream",
     "text": [
      "/Users/danieldemarchi/anaconda3/lib/python3.7/site-packages/sklearn/ensemble/forest.py:246: FutureWarning: The default value of n_estimators will change from 10 in version 0.20 to 100 in 0.22.\n",
      "  \"10 in version 0.20 to 100 in 0.22.\", FutureWarning)\n"
     ]
    },
    {
     "name": "stdout",
     "output_type": "stream",
     "text": [
      "(10224,)\n",
      "Mean Absolute Error: 0.16669422204523437 degrees.\n"
     ]
    },
    {
     "name": "stderr",
     "output_type": "stream",
     "text": [
      "/Users/danieldemarchi/anaconda3/lib/python3.7/site-packages/sklearn/ensemble/forest.py:246: FutureWarning: The default value of n_estimators will change from 10 in version 0.20 to 100 in 0.22.\n",
      "  \"10 in version 0.20 to 100 in 0.22.\", FutureWarning)\n"
     ]
    },
    {
     "name": "stdout",
     "output_type": "stream",
     "text": [
      "(10224,)\n",
      "Mean Absolute Error: 0.18633470382480063 degrees.\n"
     ]
    },
    {
     "name": "stderr",
     "output_type": "stream",
     "text": [
      "/Users/danieldemarchi/anaconda3/lib/python3.7/site-packages/sklearn/ensemble/forest.py:246: FutureWarning: The default value of n_estimators will change from 10 in version 0.20 to 100 in 0.22.\n",
      "  \"10 in version 0.20 to 100 in 0.22.\", FutureWarning)\n"
     ]
    },
    {
     "name": "stdout",
     "output_type": "stream",
     "text": [
      "(10224,)\n",
      "Mean Absolute Error: 0.18729536943885536 degrees.\n"
     ]
    },
    {
     "name": "stderr",
     "output_type": "stream",
     "text": [
      "/Users/danieldemarchi/anaconda3/lib/python3.7/site-packages/sklearn/ensemble/forest.py:246: FutureWarning: The default value of n_estimators will change from 10 in version 0.20 to 100 in 0.22.\n",
      "  \"10 in version 0.20 to 100 in 0.22.\", FutureWarning)\n"
     ]
    },
    {
     "name": "stdout",
     "output_type": "stream",
     "text": [
      "(10224,)\n",
      "Mean Absolute Error: 0.19112235721427326 degrees.\n"
     ]
    },
    {
     "name": "stderr",
     "output_type": "stream",
     "text": [
      "/Users/danieldemarchi/anaconda3/lib/python3.7/site-packages/sklearn/ensemble/forest.py:246: FutureWarning: The default value of n_estimators will change from 10 in version 0.20 to 100 in 0.22.\n",
      "  \"10 in version 0.20 to 100 in 0.22.\", FutureWarning)\n"
     ]
    },
    {
     "name": "stdout",
     "output_type": "stream",
     "text": [
      "(10224,)\n",
      "Mean Absolute Error: 0.17191167452244333 degrees.\n",
      "avg mean error\n",
      "0.18359978449276607\n"
     ]
    }
   ],
   "source": [
    "avg = 0\n",
    "\n",
    "rf_mem4.fit(train_features4, train_labels_mem4)\n",
    "predictions = rf_mem4.predict(ttrain_features4)\n",
    "print(predictions.shape)\n",
    "errors = abs(predictions - ttrain_labels_mem4)\n",
    "print('Mean Absolute Error:', np.mean(errors), 'degrees.')\n",
    "avg = avg+np.mean(errors)\n",
    "\n",
    "\n",
    "rf_ori4.fit(train_features4, train_labels_ori4)\n",
    "predictions = rf_ori4.predict(ttrain_features4)\n",
    "print(predictions.shape)\n",
    "errors = abs(predictions - ttrain_labels_ori4)\n",
    "print('Mean Absolute Error:', np.mean(errors), 'degrees.')\n",
    "avg = avg+np.mean(errors)\n",
    "\n",
    "rf_jud4.fit(train_features4, train_labels_jud4)\n",
    "predictions = rf_jud4.predict(ttrain_features4)\n",
    "print(predictions.shape)\n",
    "errors = abs(predictions - ttrain_labels_jud4)\n",
    "print('Mean Absolute Error:', np.mean(errors), 'degrees.')\n",
    "avg = avg+np.mean(errors)\n",
    "\n",
    "rf_com4.fit(train_features4, train_labels_com4)\n",
    "predictions = rf_com4.predict(ttrain_features4)\n",
    "print(predictions.shape)\n",
    "errors = abs(predictions - ttrain_labels_com4)\n",
    "print('Mean Absolute Error:', np.mean(errors), 'degrees.')\n",
    "avg = avg+np.mean(errors)\n",
    "\n",
    "rf_hom4.fit(train_features4, train_labels_hom4)\n",
    "predictions = rf_hom4.predict(ttrain_features4)\n",
    "print(predictions.shape)\n",
    "errors = abs(predictions - ttrain_labels_hom4)\n",
    "print('Mean Absolute Error:', np.mean(errors), 'degrees.')\n",
    "avg = avg+np.mean(errors)\n",
    "\n",
    "rf_per4.fit(train_features4, train_labels_per4)\n",
    "predictions = rf_per4.predict(ttrain_features4)\n",
    "print(predictions.shape)\n",
    "errors = abs(predictions - ttrain_labels_per4)\n",
    "print('Mean Absolute Error:', np.mean(errors), 'degrees.')\n",
    "avg = avg+np.mean(errors)\n",
    "\n",
    "rf_cpt4.fit(train_features4, train_labels_cpt4)\n",
    "predictions = rf_cpt4.predict(ttrain_features4)\n",
    "print(predictions.shape)\n",
    "errors = abs(predictions - ttrain_labels_cpt4)\n",
    "print('Mean Absolute Error:', np.mean(errors), 'degrees.')\n",
    "avg = avg+np.mean(errors)\n",
    "\n",
    "rf_lan4.fit(train_features4, train_labels_lan4)\n",
    "predictions = rf_lan4.predict(ttrain_features4)\n",
    "print(predictions.shape)\n",
    "errors = abs(predictions - ttrain_labels_lan4)\n",
    "print('Mean Absolute Error:', np.mean(errors), 'degrees.')\n",
    "avg = avg+np.mean(errors)\n",
    "\n",
    "print('avg mean error')\n",
    "print(avg/8)"
   ]
  },
  {
   "cell_type": "code",
   "execution_count": null,
   "metadata": {},
   "outputs": [],
   "source": []
  },
  {
   "cell_type": "code",
   "execution_count": null,
   "metadata": {},
   "outputs": [],
   "source": []
  }
 ],
 "metadata": {
  "kernelspec": {
   "display_name": "Python 3",
   "language": "python",
   "name": "python3"
  },
  "language_info": {
   "codemirror_mode": {
    "name": "ipython",
    "version": 3
   },
   "file_extension": ".py",
   "mimetype": "text/x-python",
   "name": "python",
   "nbconvert_exporter": "python",
   "pygments_lexer": "ipython3",
   "version": "3.7.3"
  }
 },
 "nbformat": 4,
 "nbformat_minor": 2
}
