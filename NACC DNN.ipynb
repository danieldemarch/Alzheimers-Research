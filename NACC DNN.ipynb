{
 "cells": [
  {
   "cell_type": "code",
   "execution_count": 12,
   "metadata": {},
   "outputs": [
    {
     "name": "stderr",
     "output_type": "stream",
     "text": [
      "Using TensorFlow backend.\n"
     ]
    }
   ],
   "source": [
    "import pandas as pd\n",
    "import numpy as np\n",
    "import math\n",
    "import keras"
   ]
  },
  {
   "cell_type": "code",
   "execution_count": 2,
   "metadata": {},
   "outputs": [
    {
     "name": "stderr",
     "output_type": "stream",
     "text": [
      "/Users/danieldemarchi/anaconda3/lib/python3.7/site-packages/IPython/core/interactiveshell.py:3049: DtypeWarning: Columns (3,31,47,53,61,77,100,105,118,123,126,129,164,171,220,221,222,224,225,226,227,228,229,230,231,232,233,235,236,237,238,239,240,241,242,243,244,246,272,288,293,300,301,305,306,318,356,360,362,364,366,376,378,401,417,441,471,472,482,494,518,519,569,570,593,594,595,610,616,633,634,635,636,637,639,669,716,717,718,733,765,767,772,785,788,790,792,794,797,799,819,823,828,844,846,847,855,857,859,861,863,876,884,896,898,913,915,927,929,931,933,935) have mixed types. Specify dtype option on import or set low_memory=False.\n",
      "  interactivity=interactivity, compiler=compiler, result=result)\n"
     ]
    }
   ],
   "source": [
    "alzheimers = pd.read_csv(\"/Users/danieldemarchi/Desktop/CleanedNACC\")"
   ]
  },
  {
   "cell_type": "code",
   "execution_count": 3,
   "metadata": {},
   "outputs": [],
   "source": [
    "cogscores = pd.read_csv(\"/Users/danieldemarchi/Desktop/CogScoreDataset\")"
   ]
  },
  {
   "cell_type": "code",
   "execution_count": 4,
   "metadata": {},
   "outputs": [],
   "source": [
    "cogscores = np.array(cogscores)"
   ]
  },
  {
   "cell_type": "code",
   "execution_count": 5,
   "metadata": {},
   "outputs": [
    {
     "name": "stdout",
     "output_type": "stream",
     "text": [
      "13803\n",
      "58277\n",
      "10225\n"
     ]
    }
   ],
   "source": [
    "future_cog = []\n",
    "tfuture_cog = []\n",
    "dumb = 0\n",
    "for i in range(len(cogscores)-1):\n",
    "    naccid = cogscores[i][1]\n",
    "    if (cogscores[i+1][1] == naccid and i < 13804):\n",
    "        train = cogscores[i,2:26]\n",
    "        label = cogscores[i+1,18:26]\n",
    "        thing = np.concatenate((train, label))\n",
    "        tfuture_cog.append(thing)\n",
    "    if (cogscores[i+1][1] == naccid and i >= 13804):\n",
    "        train = cogscores[i,2:26]\n",
    "        label = cogscores[i+1,18:26]\n",
    "        thing = np.concatenate((train, label))\n",
    "        future_cog.append(thing) \n",
    "    if (i > 13800 and cogscores[i+1][1] != naccid and dumb == 0):\n",
    "        print(i)\n",
    "        dumb+=1\n",
    "print(len(future_cog))\n",
    "print(len(tfuture_cog))\n",
    "future_cog = np.array(future_cog)\n",
    "tfuture_cog = np.array(tfuture_cog)"
   ]
  },
  {
   "cell_type": "code",
   "execution_count": 6,
   "metadata": {},
   "outputs": [
    {
     "name": "stdout",
     "output_type": "stream",
     "text": [
      "(58277, 8)\n",
      "(10225, 8)\n"
     ]
    }
   ],
   "source": [
    "train_features = future_cog[:,:22]\n",
    "train_labels = future_cog[:, 23:31]\n",
    "print(train_labels.shape)\n",
    "train_labels_mem = train_labels[:, 0]\n",
    "train_labels_ori = train_labels[:, 1]\n",
    "train_labels_jud = train_labels[:, 2]\n",
    "train_labels_com = train_labels[:, 3]\n",
    "train_labels_hom = train_labels[:, 4]\n",
    "train_labels_per = train_labels[:, 5]\n",
    "train_labels_cpt = train_labels[:, 6]\n",
    "train_labels_lan = train_labels[:, 7]\n",
    "\n",
    "ttrain_features = tfuture_cog[:,:22]\n",
    "ttrain_labels = tfuture_cog[:, 23:31]\n",
    "print(ttrain_labels.shape)\n",
    "ttrain_labels_mem = ttrain_labels[:, 0]\n",
    "ttrain_labels_ori = ttrain_labels[:, 1]\n",
    "ttrain_labels_jud = ttrain_labels[:, 2]\n",
    "ttrain_labels_com = ttrain_labels[:, 3]\n",
    "ttrain_labels_hom = ttrain_labels[:, 4]\n",
    "ttrain_labels_per = ttrain_labels[:, 5]\n",
    "ttrain_labels_cpt = ttrain_labels[:, 6]\n",
    "ttrain_labels_lan = ttrain_labels[:, 7]"
   ]
  },
  {
   "cell_type": "code",
   "execution_count": 13,
   "metadata": {},
   "outputs": [],
   "source": [
    "def naccdnn():\n",
    "\t# create model\n",
    "\tmodel = keras.models.Sequential()\n",
    "\tmodel.add(keras.layers.Dense(64, input_dim=22, kernel_initializer='normal', activation='relu'))\n",
    "\tmodel.add(keras.layers.Dense(1, kernel_initializer='normal'))\n",
    "\t# Compile model\n",
    "\tmodel.compile(loss='mean_squared_error', optimizer='adam')\n",
    "\treturn model"
   ]
  },
  {
   "cell_type": "code",
   "execution_count": 14,
   "metadata": {},
   "outputs": [
    {
     "name": "stdout",
     "output_type": "stream",
     "text": [
      "WARNING:tensorflow:From /Users/danieldemarchi/anaconda3/lib/python3.7/site-packages/tensorflow/python/framework/op_def_library.py:263: colocate_with (from tensorflow.python.framework.ops) is deprecated and will be removed in a future version.\n",
      "Instructions for updating:\n",
      "Colocations handled automatically by placer.\n"
     ]
    }
   ],
   "source": [
    "model_mem = naccdnn()\n",
    "model_ori = naccdnn()\n",
    "model_jud = naccdnn()\n",
    "model_com = naccdnn()\n",
    "model_hom = naccdnn()\n",
    "model_per = naccdnn()\n",
    "model_cpt = naccdnn()\n",
    "model_lan = naccdnn()"
   ]
  },
  {
   "cell_type": "code",
   "execution_count": 15,
   "metadata": {},
   "outputs": [
    {
     "name": "stdout",
     "output_type": "stream",
     "text": [
      "_________________________________________________________________\n",
      "Layer (type)                 Output Shape              Param #   \n",
      "=================================================================\n",
      "dense_1 (Dense)              (None, 64)                1472      \n",
      "_________________________________________________________________\n",
      "dense_2 (Dense)              (None, 1)                 65        \n",
      "=================================================================\n",
      "Total params: 1,537\n",
      "Trainable params: 1,537\n",
      "Non-trainable params: 0\n",
      "_________________________________________________________________\n"
     ]
    }
   ],
   "source": [
    "EPOCHS = 500\n",
    "model_mem.summary()"
   ]
  },
  {
   "cell_type": "code",
   "execution_count": null,
   "metadata": {},
   "outputs": [
    {
     "name": "stdout",
     "output_type": "stream",
     "text": [
      "WARNING:tensorflow:From /Users/danieldemarchi/anaconda3/lib/python3.7/site-packages/tensorflow/python/ops/math_ops.py:3066: to_int32 (from tensorflow.python.ops.math_ops) is deprecated and will be removed in a future version.\n",
      "Instructions for updating:\n",
      "Use tf.cast instead.\n"
     ]
    }
   ],
   "source": [
    "history_mem = model_mem.fit(\n",
    "  train_features, train_labels_mem,\n",
    "  epochs=EPOCHS, validation_split = 0.2, verbose=0)"
   ]
  },
  {
   "cell_type": "code",
   "execution_count": null,
   "metadata": {},
   "outputs": [],
   "source": [
    "print(train_features[0])"
   ]
  },
  {
   "cell_type": "code",
   "execution_count": null,
   "metadata": {},
   "outputs": [],
   "source": []
  },
  {
   "cell_type": "code",
   "execution_count": null,
   "metadata": {},
   "outputs": [],
   "source": []
  }
 ],
 "metadata": {
  "kernelspec": {
   "display_name": "Python 3",
   "language": "python",
   "name": "python3"
  },
  "language_info": {
   "codemirror_mode": {
    "name": "ipython",
    "version": 3
   },
   "file_extension": ".py",
   "mimetype": "text/x-python",
   "name": "python",
   "nbconvert_exporter": "python",
   "pygments_lexer": "ipython3",
   "version": "3.7.3"
  }
 },
 "nbformat": 4,
 "nbformat_minor": 2
}
